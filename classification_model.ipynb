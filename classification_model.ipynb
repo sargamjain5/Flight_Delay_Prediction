{
 "cells": [
  {
   "cell_type": "code",
   "execution_count": null,
   "id": "6df2aff2",
   "metadata": {},
   "outputs": [],
   "source": [
    "import pandas as pd\n",
    "import numpy as np\n",
    "import seaborn as sns\n",
    "import matplotlib.pyplot as plt\n",
    "\n",
    "from sklearn.model_selection import train_test_split\n",
    "from sklearn.preprocessing import StandardScaler\n",
    "from sklearn.ensemble import RandomForestClassifier\n",
    "from sklearn.metrics import classification_report, confusion_matrix, accuracy_score\n"
   ]
  },
  {
   "cell_type": "code",
   "execution_count": null,
   "id": "f09f80dd",
   "metadata": {},
   "outputs": [],
   "source": [
    "# Load your dataset\n",
    "# STEP 2: Data Cleaning & Preprocessing\n",
    "\n",
    "# Ensure target column exists and drop rows with missing target values\n",
    "df = pd.read_csv(\"Airline_Delay_Cause.csv\")\n",
    "df = df.dropna(subset=[\"arr_del15\"])\n",
    "\n",
    "# Drop columns unlikely to help in prediction\n",
    "drop_cols = ['arr_delay', 'carrier_name', 'airport_name']\n",
    "# Keep only columns that exist in the DataFrame\n",
    "drop_cols = [col for col in drop_cols if col in df.columns]\n",
    "df = df.drop(columns=drop_cols)\n",
    "\n"
   ]
  },
  {
   "cell_type": "code",
   "execution_count": null,
   "id": "8ef02c41",
   "metadata": {},
   "outputs": [],
   "source": [
    "# Define target and features\n",
    "y = df[\"arr_del15\"]\n",
    "X = df.drop(columns=[\"arr_del15\"])\n",
    "\n",
    "X = pd.get_dummies(X, drop_first=True)"
   ]
  },
  {
   "cell_type": "code",
   "execution_count": null,
   "id": "b964f0f9",
   "metadata": {},
   "outputs": [],
   "source": [
    "# 1. Make sure target has only 0 and 1\n",
    "df = df[df['arr_del15'].isin([0, 1])]\n",
    "\n",
    "# 2. Re-define target and features\n",
    "y = df['arr_del15']\n",
    "X = df.drop(columns=['arr_del15'])\n",
    "\n",
    "# 3. Re-encode after filtering\n",
    "X = pd.get_dummies(X, drop_first=True)\n",
    "\n",
    "# 4. Check class balance\n",
    "print(\"✅ Class distribution:\")\n",
    "print(y.value_counts())\n",
    "\n",
    "# 5. Safe train-test split (now stratify works!)\n",
    "X_train, X_test, y_train, y_test = train_test_split(\n",
    "    X, y, test_size=0.2, random_state=42, stratify=y\n",
    ")\n",
    "\n",
    "# 6. Train the model\n",
    "model = RandomForestClassifier(n_estimators=100, random_state=42)\n",
    "model.fit(X_train, y_train)\n",
    "\n",
    "# 7. Predict and evaluate\n",
    "y_pred = model.predict(X_test)\n",
    "\n",
    "print(\"\\n✅ Classification Report:\")\n",
    "print(classification_report(y_test, y_pred))\n",
    "\n",
    "print(\"✅ Confusion Matrix:\")\n",
    "print(confusion_matrix(y_test, y_pred))\n"
   ]
  },
  {
   "cell_type": "code",
   "execution_count": null,
   "id": "7503615f",
   "metadata": {},
   "outputs": [],
   "source": [
    "scaler = StandardScaler()\n",
    "X_train_scaled = scaler.fit_transform(X_train)\n",
    "X_test_scaled = scaler.transform(X_test)"
   ]
  },
  {
   "cell_type": "code",
   "execution_count": null,
   "id": "825290cf",
   "metadata": {},
   "outputs": [],
   "source": [
    "model = RandomForestClassifier(n_estimators=100, random_state=42)\n",
    "model.fit(X_train_scaled, y_train)"
   ]
  },
  {
   "cell_type": "code",
   "execution_count": null,
   "id": "31d25832",
   "metadata": {},
   "outputs": [],
   "source": [
    "y_pred = model.predict(X_test_scaled)\n",
    "\n",
    "print(\"Accuracy:\", accuracy_score(y_test, y_pred))\n",
    "print(\"\\nConfusion Matrix:\\n\", confusion_matrix(y_test, y_pred))\n",
    "print(\"\\nClassification Report:\\n\", classification_report(y_test, y_pred))"
   ]
  },
  {
   "cell_type": "code",
   "execution_count": null,
   "id": "61df373d",
   "metadata": {},
   "outputs": [],
   "source": [
    "importances = pd.Series(model.feature_importances_, index=X.columns)\n",
    "importances.nlargest(15).plot(kind='barh', figsize=(10, 7))\n",
    "plt.title(\"Top 15 Feature Importances\")\n",
    "plt.show()"
   ]
  },
  {
   "cell_type": "code",
   "execution_count": 17,
   "id": "e4a4ff34",
   "metadata": {},
   "outputs": [
    {
     "data": {
      "text/plain": [
       "['model_columns.pkl']"
      ]
     },
     "execution_count": 17,
     "metadata": {},
     "output_type": "execute_result"
    }
   ],
   "source": [
    "import joblib\n",
    "\n",
    "# Save trained model\n",
    "joblib.dump(model, \"flight_delay_model.pkl\")\n",
    "\n",
    "# Save the feature columns used during training\n",
    "joblib.dump(X.columns.tolist(), \"model_columns.pkl\")"
   ]
  }
 ],
 "metadata": {
  "kernelspec": {
   "display_name": ".venv",
   "language": "python",
   "name": "python3"
  },
  "language_info": {
   "codemirror_mode": {
    "name": "ipython",
    "version": 3
   },
   "file_extension": ".py",
   "mimetype": "text/x-python",
   "name": "python",
   "nbconvert_exporter": "python",
   "pygments_lexer": "ipython3",
   "version": "3.13.4"
  }
 },
 "nbformat": 4,
 "nbformat_minor": 5
}
