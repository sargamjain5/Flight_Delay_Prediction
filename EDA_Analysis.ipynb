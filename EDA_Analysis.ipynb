{
 "cells": [
  {
   "cell_type": "code",
   "execution_count": null,
   "id": "df06cd76",
   "metadata": {},
   "outputs": [],
   "source": [
    "# ✈️ 1. IMPORTS & SETTINGS\n",
    "import pandas as pd\n",
    "import numpy as np\n",
    "import matplotlib.pyplot as plt\n",
    "import seaborn as sns\n",
    "\n",
    "sns.set(style=\"whitegrid\")\n",
    "plt.rcParams[\"figure.figsize\"] = (12, 6)\n",
    "\n",
    "# 📦 2. LOAD DATA\n",
    "df = pd.read_csv(\"Airline_Delay_Cause.csv\")\n",
    "\n"
   ]
  },
  {
   "cell_type": "code",
   "execution_count": null,
   "id": "d30dffaf",
   "metadata": {},
   "outputs": [],
   "source": [
    "# 🔍 3. CLEANING\n",
    "df.dropna(inplace=True)\n",
    "df.columns = df.columns.str.strip().str.lower().str.replace(\" \", \"_\")\n",
    "df.drop(columns=[\"carrier_name\", \"airport_name\"], inplace=True)\n",
    "df.reset_index(drop=True, inplace=True)"
   ]
  },
  {
   "cell_type": "code",
   "execution_count": null,
   "id": "1816921f",
   "metadata": {},
   "outputs": [],
   "source": [
    "# 📊 4. BASIC STATS\n",
    "print(\"Shape:\", df.shape)\n",
    "print(df.describe(include=\"all\"))\n",
    "print(df.isnull().sum())"
   ]
  },
  {
   "cell_type": "code",
   "execution_count": null,
   "id": "913853e9",
   "metadata": {},
   "outputs": [],
   "source": [
    "# 📈 5. DISTRIBUTION OF ARRIVAL DELAYS\n",
    "# Filter extreme outliers (e.g., anything over 1000 minutes)\n",
    "filtered_df = df[df[\"arr_delay\"] <= 1000]\n",
    "\n",
    "sns.histplot(filtered_df[\"arr_delay\"], bins=50, kde=True)\n",
    "plt.title(\"Distribution of Arrival Delays (<= 1000 min)\")\n",
    "plt.xlabel(\"Arrival Delay (minutes)\")\n",
    "plt.ylabel(\"Number of Flights\")\n",
    "plt.show()\n"
   ]
  },
  {
   "cell_type": "code",
   "execution_count": null,
   "id": "441e9ce7",
   "metadata": {},
   "outputs": [],
   "source": [
    "# 📉 6. PERCENTAGE OF FLIGHTS DELAYED ≥15 MIN\n",
    "df[\"delayed_15+\"] = df[\"arr_del15\"] / df[\"arr_flights\"]\n",
    "sns.histplot(df[\"delayed_15+\"], bins=30, kde=True)\n",
    "plt.title(\"Proportion of Flights Delayed ≥15 Minutes\")\n",
    "plt.xlabel(\"Delay Rate\")\n",
    "plt.show()"
   ]
  },
  {
   "cell_type": "code",
   "execution_count": null,
   "id": "93b07d6e",
   "metadata": {},
   "outputs": [],
   "source": [
    "# 🔍 7. AVERAGE DELAY MINUTES BY CAUSE\n",
    "cause_cols = [\"carrier_delay\", \"weather_delay\", \"nas_delay\", \"security_delay\", \"late_aircraft_delay\"]\n",
    "df_cause = df[cause_cols].mean().sort_values(ascending=False)"
   ]
  },
  {
   "cell_type": "code",
   "execution_count": null,
   "id": "e74968ef",
   "metadata": {},
   "outputs": [],
   "source": [
    "sns.barplot(x=df_cause.values, y=df_cause.index)\n",
    "plt.title(\"Average Delay Duration by Cause (minutes)\")\n",
    "plt.xlabel(\"Avg Delay (minutes)\")\n",
    "plt.ylabel(\"Cause of Delay\")\n",
    "plt.show()"
   ]
  },
  {
   "cell_type": "code",
   "execution_count": null,
   "id": "69b0b30d",
   "metadata": {},
   "outputs": [],
   "source": [
    "# 🗓️ 8. TEMPORAL TRENDS\n",
    "df[\"date\"] = pd.to_datetime(df[[\"year\", \"month\"]].assign(day=1))"
   ]
  },
  {
   "cell_type": "code",
   "execution_count": null,
   "id": "87cab86d",
   "metadata": {},
   "outputs": [],
   "source": [
    "# Monthly Average Delay\n",
    "monthly_delay = df.groupby(\"date\")[\"arr_delay\"].mean().reset_index()\n",
    "sns.lineplot(data=monthly_delay, x=\"date\", y=\"arr_delay\")\n",
    "plt.title(\"Monthly Average Arrival Delay\")\n",
    "plt.xlabel(\"Month\")\n",
    "plt.ylabel(\"Avg Delay (min)\")\n",
    "plt.xticks(rotation=45)\n",
    "plt.show()"
   ]
  },
  {
   "cell_type": "code",
   "execution_count": null,
   "id": "ab6fb61e",
   "metadata": {},
   "outputs": [],
   "source": [
    "# Delay by Month\n",
    "monthly = df.groupby(\"month\")[\"arr_delay\"].mean()\n",
    "sns.barplot(x=monthly.index, y=monthly.values)\n",
    "plt.title(\"Average Delay by Month\")\n",
    "plt.xlabel(\"Month\")\n",
    "plt.ylabel(\"Avg Delay (min)\")\n",
    "plt.show()"
   ]
  },
  {
   "cell_type": "code",
   "execution_count": null,
   "id": "8fd08ea3",
   "metadata": {},
   "outputs": [],
   "source": [
    "# ✈️ 9. DELAY BY AIRPORT OR CARRIER (Top 10)\n",
    "top_airports = df.groupby(\"airport\")[\"arr_delay\"].mean().sort_values(ascending=False).head(10)\n",
    "sns.barplot(x=top_airports.values, y=top_airports.index)\n",
    "plt.title(\"Top 10 Airports by Average Delay\")\n",
    "plt.xlabel(\"Avg Delay (min)\")\n",
    "plt.ylabel(\"Airport\")\n",
    "plt.show()\n",
    "\n",
    "top_carriers = df.groupby(\"carrier\")[\"arr_delay\"].mean().sort_values(ascending=False).head(10)\n",
    "sns.barplot(x=top_carriers.values, y=top_carriers.index)\n",
    "plt.title(\"Top 10 Carriers by Average Delay\")\n",
    "plt.xlabel(\"Avg Delay (min)\")\n",
    "plt.ylabel(\"Carrier\")\n",
    "plt.show()"
   ]
  },
  {
   "cell_type": "code",
   "execution_count": null,
   "id": "54ff471c",
   "metadata": {},
   "outputs": [],
   "source": [
    "# 📉 10. CORRELATION ANALYSIS\n",
    "corr = df[cause_cols + [\"arr_delay\"]].corr()\n",
    "sns.heatmap(corr, annot=True, cmap=\"coolwarm\", fmt=\".2f\")\n",
    "plt.title(\"Correlation of Delay Causes with Total Delay\")\n",
    "plt.show()"
   ]
  },
  {
   "cell_type": "code",
   "execution_count": null,
   "id": "c8281039",
   "metadata": {},
   "outputs": [],
   "source": [
    "print(\"Key Insights:\")\n",
    "print(\"- Late aircraft and NAS delays are the top contributors to total delay.\")\n",
    "print(\"- Delays peak during summer months (June–August).\")\n",
    "print(\"- Some airports and carriers consistently experience higher delays.\")"
   ]
  }
 ],
 "metadata": {
  "kernelspec": {
   "display_name": ".venv",
   "language": "python",
   "name": "python3"
  },
  "language_info": {
   "codemirror_mode": {
    "name": "ipython",
    "version": 3
   },
   "file_extension": ".py",
   "mimetype": "text/x-python",
   "name": "python",
   "nbconvert_exporter": "python",
   "pygments_lexer": "ipython3",
   "version": "3.13.4"
  }
 },
 "nbformat": 4,
 "nbformat_minor": 5
}
